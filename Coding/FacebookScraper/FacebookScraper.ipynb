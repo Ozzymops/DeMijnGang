{
 "cells": [
  {
   "cell_type": "code",
   "execution_count": 8,
   "id": "905d49eb-9e40-497d-89b1-04abf695ffa2",
   "metadata": {},
   "outputs": [],
   "source": [
    "from selenium import webdriver\n",
    "from selenium.webdriver.common.keys import Keys\n",
    "from selenium.webdriver.support import expected_conditions as EC\n",
    "from selenium.webdriver.common.by import By\n",
    "from selenium.webdriver.support.wait import WebDriverWait\n",
    "import os\n",
    "import wget\n",
    "import time"
   ]
  },
  {
   "cell_type": "code",
   "execution_count": 9,
   "id": "cf5abcd3-2437-4d07-9bf1-029faa10f0c6",
   "metadata": {},
   "outputs": [],
   "source": [
    "options = webdriver.ChromeOptions()\n",
    "options.add_argument('--disable-notifications')\n",
    "driver = webdriver.Chrome(options=options)\n",
    "driver.get(\"http://www.facebook.com\")"
   ]
  },
  {
   "cell_type": "code",
   "execution_count": 10,
   "id": "49a23c2c-f084-4f3d-985d-d3daf931095e",
   "metadata": {},
   "outputs": [],
   "source": [
    "username = WebDriverWait(driver, 10).until(EC.element_to_be_clickable((By.CSS_SELECTOR, \"input[name='email']\")))\n",
    "password = WebDriverWait(driver, 10).until(EC.element_to_be_clickable((By.CSS_SELECTOR, \"input[name='pass']\")))\n",
    "\n",
    "username.clear()\n",
    "username.send_keys(\"justinmuris@gmail.com\")\n",
    "password.clear()\n",
    "password.send_keys(\"AFaceForBooks_XDDD\")\n",
    "\n",
    "button = WebDriverWait(driver, 2).until(EC.element_to_be_clickable((By.CSS_SELECTOR, \"button[type='submit']\"))).click()"
   ]
  },
  {
   "cell_type": "code",
   "execution_count": null,
   "id": "06ce5839-d023-4266-9c9e-94b116c2b60f",
   "metadata": {},
   "outputs": [
    {
     "name": "stdout",
     "output_type": "stream",
     "text": [
      "Found 186 links to images\n"
     ]
    }
   ],
   "source": [
    "time.sleep(5)\n",
    "images = []\n",
    "\n",
    "for i in [\"photos\"]:\n",
    "    driver.get(\"https://www.facebook.com/demijngang/\" + i + \"/\")\n",
    "    time.sleep(5)\n",
    "\n",
    "    for j in range(0,10):\n",
    "        driver.execute_script(\"window.scrollTo(0, document.body.scrollHeight);\")\n",
    "        time.sleep(2)\n",
    "\n",
    "    anchors = driver.find_elements(By.TAG_NAME,'a')\n",
    "    anchors = [a.get_attribute('href') for a in anchors]\n",
    "    anchors = [a for a in anchors if str(a).startswith(\"https://www.facebook.com/photo\")]\n",
    "    \n",
    "    print('Found ' + str(len(anchors)) + ' links to images')\n",
    "    \n",
    "    for a in anchors:\n",
    "        driver.get(a)\n",
    "        time.sleep(1)\n",
    "        img = driver.find_elements(By.TAG_NAME,\"img\")\n",
    "        images.append(img[1].get_attribute(\"src\"))\n",
    "\n",
    "print('I scraped '+ str(len(images)) + ' images!')"
   ]
  },
  {
   "cell_type": "code",
   "execution_count": 7,
   "id": "b81eb497-8dbc-4863-a0de-ff833b414641",
   "metadata": {},
   "outputs": [],
   "source": [
    "path = os.getcwd()\n",
    "path = os.path.join(path, \"FB_SCRAPED\")\n",
    "os.mkdir(path)"
   ]
  },
  {
   "cell_type": "code",
   "execution_count": 6,
   "id": "bbc551ec-f165-4b52-b431-6f08190ccce7",
   "metadata": {},
   "outputs": [
    {
     "ename": "NameError",
     "evalue": "name 'path' is not defined",
     "output_type": "error",
     "traceback": [
      "\u001b[1;31m---------------------------------------------------------------------------\u001b[0m",
      "\u001b[1;31mNameError\u001b[0m                                 Traceback (most recent call last)",
      "Cell \u001b[1;32mIn[6], line 1\u001b[0m\n\u001b[1;32m----> 1\u001b[0m \u001b[38;5;28mprint\u001b[39m(\u001b[38;5;124m'\u001b[39m\u001b[38;5;124mDownloading images to \u001b[39m\u001b[38;5;124m'\u001b[39m \u001b[38;5;241m+\u001b[39m \u001b[43mpath\u001b[49m)\n\u001b[0;32m      3\u001b[0m counter \u001b[38;5;241m=\u001b[39m \u001b[38;5;241m0\u001b[39m\n\u001b[0;32m      4\u001b[0m \u001b[38;5;28;01mfor\u001b[39;00m image \u001b[38;5;129;01min\u001b[39;00m images:\n",
      "\u001b[1;31mNameError\u001b[0m: name 'path' is not defined"
     ]
    }
   ],
   "source": [
    "print('Downloading images to ' + path)\n",
    "\n",
    "counter = 0\n",
    "for image in images:\n",
    "    save_as = os.path.join(path, str(counter) + '.jpg')\n",
    "    wget.download(image, save_as)\n",
    "    counter += 1"
   ]
  },
  {
   "cell_type": "code",
   "execution_count": null,
   "id": "4c1050ad-f252-45b6-b6ab-bee20178f370",
   "metadata": {},
   "outputs": [],
   "source": [
    "images"
   ]
  },
  {
   "cell_type": "code",
   "execution_count": null,
   "id": "983ece6f-d87f-4784-a34e-e944188f717c",
   "metadata": {},
   "outputs": [],
   "source": []
  }
 ],
 "metadata": {
  "kernelspec": {
   "display_name": "Python 3 (ipykernel)",
   "language": "python",
   "name": "python3"
  },
  "language_info": {
   "codemirror_mode": {
    "name": "ipython",
    "version": 3
   },
   "file_extension": ".py",
   "mimetype": "text/x-python",
   "name": "python",
   "nbconvert_exporter": "python",
   "pygments_lexer": "ipython3",
   "version": "3.12.1"
  }
 },
 "nbformat": 4,
 "nbformat_minor": 5
}
